{
 "metadata": {
  "name": "BG_model"
 },
 "nbformat": 3,
 "nbformat_minor": 0,
 "worksheets": [
  {
   "cells": [
    {
     "cell_type": "heading",
     "level": 3,
     "metadata": {},
     "source": [
      "A model of the neural\n",
      "substrates for exploratory\n",
      "dynamics in basal ganglia<br>\n",
      "-V. Srinivasa Chakravarthy <br>\n",
      "with all Lateral connection in GPE ,STN , and GPi"
     ]
    },
    {
     "cell_type": "markdown",
     "metadata": {},
     "source": [
      "Distributed under the (new) BSD License.\n",
      "Copyright (c) 2014, Nicolas P. Rougier\n",
      "\n",
      "**Contributors**: Nicolas P. Rougier (Nicolas.Rougier@inria.fr),<br>\n",
      "              Meropi Topalidou (Meropi.Topalidou@inria.fr),<br>\n",
      "              Hima Mehta(hima.mehta@inria.fr)"
     ]
    },
    {
     "cell_type": "markdown",
     "metadata": {},
     "source": [
      "**Note** :- I couldt found sigma_l , and R parameters in Article which are used here ."
     ]
    },
    {
     "cell_type": "markdown",
     "metadata": {},
     "source": [
      "### Packages import"
     ]
    },
    {
     "cell_type": "code",
     "collapsed": false,
     "input": [
      "from dana import *\n",
      "import matplotlib.pyplot as plt\n",
      "#%pylab --no-import-all"
     ],
     "language": "python",
     "metadata": {},
     "outputs": [],
     "prompt_number": 1
    },
    {
     "cell_type": "markdown",
     "metadata": {},
     "source": [
      "### Helper functions"
     ]
    },
    {
     "cell_type": "code",
     "collapsed": false,
     "input": [
      "def H(x):\n",
      "    return 1 if x > 0 else 0\n",
      "   "
     ],
     "language": "python",
     "metadata": {},
     "outputs": [],
     "prompt_number": 2
    },
    {
     "cell_type": "markdown",
     "metadata": {},
     "source": [
      "### Simulation parameters"
     ]
    },
    {
     "cell_type": "code",
     "collapsed": false,
     "input": [
      "# Population size\n",
      "n = 20\n",
      "\n",
      "# Default Time resolution\n",
      "dt = 1.0*millisecond\n",
      "\n",
      "# Default trial duration\n",
      "duration = 100.0*dt\n",
      "\n",
      "# Initialization of the random generator (reproductibility !)\n",
      "np.random.seed(1)\n"
     ],
     "language": "python",
     "metadata": {},
     "outputs": [],
     "prompt_number": 3
    },
    {
     "cell_type": "code",
     "collapsed": false,
     "input": [
      "# Dopamine levels\n",
      "delta = -2"
     ],
     "language": "python",
     "metadata": {},
     "outputs": [],
     "prompt_number": 4
    },
    {
     "cell_type": "code",
     "collapsed": false,
     "input": [
      "# Time constants\n",
      "tau_GPe = 10\n",
      "tau_STN = 10\n",
      "tau_GPi = 10"
     ],
     "language": "python",
     "metadata": {},
     "outputs": [],
     "prompt_number": 5
    },
    {
     "cell_type": "code",
     "collapsed": false,
     "input": [
      "theta_D1 =0.1\n",
      "theta_D2 = 0.1\n",
      "theta_GPe = 0.1\n",
      "theta_STN = 0.1"
     ],
     "language": "python",
     "metadata": {},
     "outputs": [],
     "prompt_number": 6
    },
    {
     "cell_type": "code",
     "collapsed": false,
     "input": [
      "# Compute of parameters\n",
      "lamda_D1 = 5*(1/(1+np.exp(-6*(delta - theta_D1))))\n",
      "lamda_D2 = 5*(1/(1+np.exp(-6*(theta_D2 - delta))))\n",
      "lamda_GPe = 4 * H(6*(theta_GPe - delta)) + 1  \n",
      "lamda_STN = 4 * H(6*(theta_STN - delta)) + 1\n"
     ],
     "language": "python",
     "metadata": {},
     "outputs": [],
     "prompt_number": 7
    },
    {
     "cell_type": "code",
     "collapsed": false,
     "input": [
      "k_x = 2*np.pi/n                                \n",
      "A = 10 \n",
      "sigma =1.2\n",
      "C = 0.2\n",
      "#parameters A, sigma, Ce{0.1,0.3}, k_x, tau are from the article from Standage "
     ],
     "language": "python",
     "metadata": {},
     "outputs": [],
     "prompt_number": 8
    },
    {
     "cell_type": "code",
     "collapsed": false,
     "input": [
      "W_lat = 0.1\n",
      "sigma_l =2\n",
      "wsg = 0.1\n",
      "R=10\n",
      "r = np.zeros((n,n,n,n))\n",
      "W_latg = np.zeros((n,n,n,n))\n",
      "W_lats = np.zeros((n,n,n,n))\n",
      "for i in range(0,n):\n",
      "    for j in range(0,n):\n",
      "        for p in range(0,n):\n",
      "            for q in range(0,n):\n",
      "                r[i,j,p,q] = np.sqrt((i-p)**2 + (j-q)**2)\n",
      "                if((r[i,j,p,q]<R) and (r[i,j,p,q]>0)):\n",
      "                   W_latg[i,j,p,q] = W_lats[i,j,p,q]=(W_lat**2)*(np.exp((r[i,j,p,q]**2)/(sigma_l**2)))\n",
      "                elif(r[i,j,p,q]==0):\n",
      "                    W_lats[i,j,p,q]=1\n",
      "                    W_latg[i,j,p,q]=-1\n",
      "                else:\n",
      "                    W_latg[i,j,p,q] = W_lats[i,j,p,q]=0\n",
      "\n",
      "#Sum of each n*n weights for n*n channel array for GPe and Stn later multiplied by U\n",
      "sumr_s = np.zeros((n,n))\n",
      "sumr_g = np.zeros((n,n))\n",
      "for i in range(0,n):\n",
      "    for j in range(0,n):\n",
      "        sumr_s[i,j] = np.sum(W_lats[i,j])\n",
      "        sumr_g[i,j] = np.sum(W_latg[i,j])\n",
      "        \n",
      "\n",
      "d = np.zeros((n,n))\n",
      "for i in range(0,n):\n",
      "    for j in range(0,n):\n",
      "        d[i,j] = np.abs(i-j)\n",
      "\n",
      "W_GPi = A * np.exp(-d**2/(2*sigma**2)) - C;\n",
      "#Sum of weights for each channel for Gpi\n",
      "sumar_Gpi = np.zeros((n,1))\n",
      "for i in range(0,n):\n",
      "    sumar_Gpi[i,0]=np.sum(W_GPi[i])\n"
     ],
     "language": "python",
     "metadata": {},
     "outputs": [],
     "prompt_number": 9
    },
    {
     "cell_type": "markdown",
     "metadata": {},
     "source": [
      "### Populations"
     ]
    },
    {
     "cell_type": "code",
     "collapsed": false,
     "input": [
      "Striatum_D1 = zeros((n,1), \"\"\"du/dt = -u + V + I_ext;    \n",
      "                              V = np.tanh(lamda_D1* u); \n",
      "                              I_ext\"\"\")\n",
      "                                             \n",
      "Striatum_D2 = zeros((n,1), \"\"\"du/dt = -u + V + I_ext;\n",
      "                              V = np.tanh(lamda_D2* u);   \n",
      "                              I_ext\"\"\") \n",
      "\n",
      "GPe = zeros((n,n), \"\"\"dx/dt = (-x +  sumr_g  * U + wsg * I_STN + I_Str) / tau_GPe;\n",
      "                      U = np.tanh(lamda_GPe * x); \n",
      "                      I_STN; I_Str\"\"\")\n",
      "STN = zeros((n,n), \"\"\"dx/dt = (-x +  sumr_g * U - wsg * I_GPe) / tau_STN;    \n",
      "                      U = np.tanh(lamda_STN * x); I_GPe\"\"\")\n",
      "                                \n",
      "\n",
      "GPi = zeros((n,1), \"\"\"du/dt = (-u + sumar_Gpi * S * k_x + I) / tau_GPi;  \n",
      "                                S = u**2 / (1 + 1/2 * k_x * np.sum(u**2)); \n",
      "                                I = V_D1  +  U_STN; U_STN ; V_D1\"\"\")"
     ],
     "language": "python",
     "metadata": {},
     "outputs": [],
     "prompt_number": 10
    },
    {
     "cell_type": "markdown",
     "metadata": {},
     "source": [
      "### Connectivity"
     ]
    },
    {
     "cell_type": "code",
     "collapsed": false,
     "input": [
      "DenseConnection( Striatum_D2('V'), GPe('I_Str'), np.ones((1,n)) )\n",
      "DenseConnection( STN('U'), GPe('I_STN'), 1.0 )\n",
      "DenseConnection( GPe('U'), STN('I_GPe'), 1.0 )\n",
      "DenseConnection( Striatum_D1('V'), GPi('V_D1'), 1.0 )\n",
      "DenseConnection( STN('U'), GPi('U_STN'), np.ones((1,n))*1./n )"
     ],
     "language": "python",
     "metadata": {},
     "outputs": [
      {
       "output_type": "pyout",
       "prompt_number": 11,
       "text": [
        "<dana.dense_connection.DenseConnection at 0x3d5eed0>"
       ]
      }
     ],
     "prompt_number": 11
    },
    {
     "cell_type": "markdown",
     "metadata": {},
     "source": [
      "###Stimulus"
     ]
    },
    {
     "cell_type": "code",
     "collapsed": false,
     "input": [
      "@clock.at(1*millisecond)\n",
      "def stimulus(time):\n",
      "    #sigma = 0.4 #sigmaE{0.3,0.5}\n",
      "    #d = np.linspace(0,n-1,n).reshape((n,1))\n",
      "    I = np.zeros((n,1))\n",
      "    first_start = 3\n",
      "    first_num_neur = 1\n",
      "    first = np.arange(first_start, first_start + first_num_neur)\n",
      "    second_start = 13\n",
      "    second_num_neur = 1\n",
      "    second = np.arange(second_start, second_start + second_num_neur)\n",
      "    I[first] = 0.9\n",
      "    I[second] = 0.2\n",
      "    plt.plot(I)\n",
      "    plt.title('Inputs')\n",
      "    plt.show()\n",
      "    Striatum_D1['I_ext'] = I\n",
      "    Striatum_D2['I_ext'] = I\n"
     ],
     "language": "python",
     "metadata": {},
     "outputs": [],
     "prompt_number": 12
    },
    {
     "cell_type": "markdown",
     "metadata": {},
     "source": [
      "###Save GPi's activity in each tick"
     ]
    },
    {
     "cell_type": "code",
     "collapsed": false,
     "input": [
      "Gpi = np.zeros((int(duration*1000),n))\n",
      "#Gpe = np.zeros((int(duration*1000),n))\n",
      "@after(clock.tick)\n",
      "def GP_i(t):\n",
      "    index = int(t*1000)\n",
      "    Gpi[index,:] = GPi[\"S\"].T"
     ],
     "language": "python",
     "metadata": {},
     "outputs": [],
     "prompt_number": 13
    },
    {
     "cell_type": "code",
     "collapsed": false,
     "input": [
      "run(time=duration, dt=dt)"
     ],
     "language": "python",
     "metadata": {},
     "outputs": [],
     "prompt_number": 14
    },
    {
     "cell_type": "markdown",
     "metadata": {},
     "source": [
      "### Run simulation"
     ]
    },
    {
     "cell_type": "code",
     "collapsed": false,
     "input": [
      "choice = 1 if np.sum(GPi(\"S\")[0:10]) > np.sum(GPi(\"S\")[11:20]) else 2\n",
      "print choice\n",
      "#print GPi[\"S\"]\n",
      "print \"diff = \" ,np.abs(np.sum(GPi(\"S\")[0:10]) - np.sum(GPi(\"S\")[10:20]))\n",
      "ar = np.arange(1,n+1,1).reshape(n,1)\n",
      "#plt.plot(ar,Gpi(\"S\"))\n",
      "#plt.show()\n",
      "#print Gpi[-1,:]\n",
      "#print Striatum_D1(\"\")\n",
      "plt.plot(ar,Gpi[-1,:])\n",
      "plt.plot(ar,GPi[\"S\"],'ro')\n",
      "plt.title('Gpi')\n",
      "plt.show()"
     ],
     "language": "python",
     "metadata": {},
     "outputs": [
      {
       "output_type": "stream",
       "stream": "stdout",
       "text": [
        "1\n",
        "diff =  1.49619397479e-11\n"
       ]
      }
     ],
     "prompt_number": 15
    }
   ],
   "metadata": {}
  }
 ]
}
