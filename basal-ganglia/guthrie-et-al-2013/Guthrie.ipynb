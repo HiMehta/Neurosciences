{
 "metadata": {
  "name": "Guthrie"
 },
 "nbformat": 3,
 "nbformat_minor": 0,
 "worksheets": [
  {
   "cells": [
    {
     "cell_type": "heading",
     "level": 3,
     "metadata": {},
     "source": [
      "Ipython notebook for  guthrie-et-al-2013 ."
     ]
    },
    {
     "cell_type": "heading",
     "level": 4,
     "metadata": {},
     "source": [
      "Copyrights and licence details."
     ]
    },
    {
     "cell_type": "heading",
     "level": 4,
     "metadata": {},
     "source": [
      "!/usr/bin/env python <br>\n",
      "Copyright (c) 2014, Nicolas P. Rougier\n",
      "Distributed under the (new) BSD License.\n",
      "<br>\n",
      " Contributors: Nicolas P. Rougier (Nicolas.Rougier@inria.fr)<br>\n",
      "               Meropi Topalidou (Meropi.Topalidou@inria.fr)\n",
      " -----------------------------------------------------------------------------"
     ]
    },
    {
     "cell_type": "heading",
     "level": 4,
     "metadata": {},
     "source": [
      "Imports"
     ]
    },
    {
     "cell_type": "code",
     "collapsed": false,
     "input": [
      "from dana import *\n",
      "import matplotlib.pyplot as plt"
     ],
     "language": "python",
     "metadata": {},
     "outputs": [],
     "prompt_number": 1
    },
    {
     "cell_type": "heading",
     "level": 4,
     "metadata": {},
     "source": [
      "Setting Parameters"
     ]
    },
    {
     "cell_type": "code",
     "collapsed": false,
     "input": [
      "# Population size\n",
      "n = 4\n",
      "\n",
      "# Default trial duration\n",
      "duration = 3.0*second\n",
      "\n",
      "# Default Time resolution\n",
      "dt = 1.0*millisecond\n",
      "\n",
      "# Initialization of the random generator (reproductibility !)\n",
      "np.random.seed(1)\n",
      "\n",
      "# Sigmoid parameter\n",
      "Vmin       =  0.0\n",
      "Vmax       = 20.0\n",
      "Vh         = 16.0\n",
      "Vc         =  3.0\n",
      "\n",
      "# Thresholds\n",
      "Cortex_h   =  -3.0\n",
      "Striatum_h =   0.0\n",
      "STN_h      = -10.0\n",
      "GPi_h      =  10.0\n",
      "Thalamus_h = -40.0\n",
      "\n",
      "# Time constants\n",
      "Cortex_tau   = 0.01\n",
      "Striatum_tau = 0.01\n",
      "STN_tau      = 0.01\n",
      "GPi_tau      = 0.01\n",
      "Thalamus_tau = 0.01\n",
      "\n",
      "# Noise level (%)\n",
      "Cortex_N   =   0.01\n",
      "Striatum_N =   0.001\n",
      "STN_N      =   0.001\n",
      "GPi_N      =   0.03\n",
      "Thalamus_N =   0.001"
     ],
     "language": "python",
     "metadata": {},
     "outputs": [],
     "prompt_number": 2
    },
    {
     "cell_type": "heading",
     "level": 4,
     "metadata": {},
     "source": [
      "User Defined functions functions"
     ]
    },
    {
     "cell_type": "code",
     "collapsed": false,
     "input": [
      "def sigmoid(V,Vmin=Vmin,Vmax=Vmax,Vh=Vh,Vc=Vc):\n",
      "    return  Vmin + (Vmax-Vmin)/(1.0+np.exp((Vh-V)/Vc))\n",
      "\n",
      "def noise(Z, level):\n",
      "    Z = (1+np.random.uniform(-level/2,level/2,Z.shape))*Z\n",
      "    return np.maximum(Z,0.0)\n",
      "\n",
      "def init_weights(L, gain=1):\n",
      "    Wmin, Wmax = 0.25, 0.75\n",
      "    W = L._weights\n",
      "    N = np.random.normal(0.5, 0.005, W.shape)\n",
      "    N = np.minimum(np.maximum(N, 0.0),1.0)\n",
      "    L._weights = gain*W*(Wmin + (Wmax - Wmin)*N)"
     ],
     "language": "python",
     "metadata": {},
     "outputs": [],
     "prompt_number": 3
    },
    {
     "cell_type": "heading",
     "level": 4,
     "metadata": {},
     "source": [
      "Populations (Dana Groups)"
     ]
    },
    {
     "cell_type": "code",
     "collapsed": false,
     "input": [
      "Cortex_cog   = zeros((n,1), \"\"\"dV/dt = (-V + I + Iext - Cortex_h)/Cortex_tau;\n",
      "                               U = noise(V,Cortex_N); I; Iext\"\"\")\n",
      "Cortex_mot   = zeros((1,n), \"\"\"dV/dt = (-V + I + Iext - Cortex_h)/Cortex_tau;\n",
      "                               U = noise(V,Cortex_N); I; Iext\"\"\")\n",
      "Cortex_ass   = zeros((n,n), \"\"\"dV/dt = (-V + I + Iext - Cortex_h)/Cortex_tau;\n",
      "                               U = noise(V,Cortex_N); I; Iext\"\"\")\n",
      "Striatum_cog = zeros((n,1), \"\"\"dV/dt = (-V + I - Striatum_h)/Striatum_tau;\n",
      "                               U = noise(sigmoid(V), Striatum_N); I\"\"\")\n",
      "Striatum_mot = zeros((1,n), \"\"\"dV/dt = (-V + I - Striatum_h)/Striatum_tau;\n",
      "                               U = noise(sigmoid(V), Striatum_N); I\"\"\")\n",
      "Striatum_ass = zeros((n,n), \"\"\"dV/dt = (-V + I - Striatum_h)/Striatum_tau;\n",
      "                               U = noise(sigmoid(V), Striatum_N); I\"\"\")\n",
      "STN_cog      = zeros((n,1), \"\"\"dV/dt = (-V + I - STN_h)/STN_tau;\n",
      "                               U = noise(V,STN_N); I\"\"\")\n",
      "STN_mot      = zeros((1,n), \"\"\"dV/dt = (-V + I - STN_h)/STN_tau;\n",
      "                               U = noise(V,STN_N); I\"\"\")\n",
      "GPi_cog      = zeros((n,1), \"\"\"dV/dt = (-V + I - GPi_h)/GPi_tau;\n",
      "                               U = noise(V,GPi_N); I\"\"\")\n",
      "GPi_mot      = zeros((1,n), \"\"\"dV/dt = (-V + I - GPi_h)/GPi_tau;\n",
      "                               U = noise(V,GPi_N); I\"\"\")\n",
      "Thalamus_cog = zeros((n,1), \"\"\"dV/dt = (-V + I - Thalamus_h)/Thalamus_tau;\n",
      "                               U = noise(V,Thalamus_N); I\"\"\")\n",
      "Thalamus_mot = zeros((1,n), \"\"\"dV/dt = (-V + I - Thalamus_h)/Thalamus_tau;\n",
      "                               U = noise(V, Thalamus_N); I\"\"\")"
     ],
     "language": "python",
     "metadata": {},
     "outputs": [],
     "prompt_number": 4
    },
    {
     "cell_type": "heading",
     "level": 4,
     "metadata": {},
     "source": [
      "Connectivity(Dana Connections)"
     ]
    },
    {
     "cell_type": "code",
     "collapsed": false,
     "input": [
      "L = DenseConnection( Cortex_cog('U'),   Striatum_cog('I'), 1.0)\n",
      "init_weights(L)\n",
      "L = DenseConnection( Cortex_mot('U'),   Striatum_mot('I'), 1.0)\n",
      "init_weights(L)\n",
      "L = DenseConnection( Cortex_ass('U'),   Striatum_ass('I'), 1.0)\n",
      "init_weights(L)\n",
      "L = DenseConnection( Cortex_cog('U'),   Striatum_ass('I'), np.ones((1,2*n+1)))\n",
      "init_weights(L,0.2)\n",
      "L = DenseConnection( Cortex_mot('U'),   Striatum_ass('I'), np.ones((2*n+1,1)))\n",
      "init_weights(L,0.2)\n",
      "\n",
      "DenseConnection( Cortex_cog('U'),   STN_cog('I'),       1.0 )\n",
      "DenseConnection( Cortex_mot('U'),   STN_mot('I'),       1.0 )\n",
      "DenseConnection( Striatum_cog('U'), GPi_cog('I'),      -2.0 )\n",
      "DenseConnection( Striatum_mot('U'), GPi_mot('I'),      -2.0 )\n",
      "DenseConnection( Striatum_ass('U'), GPi_cog('I'),      -2.0*np.ones((1,2*n+1)))\n",
      "DenseConnection( Striatum_ass('U'), GPi_mot('I'),      -2.0*np.ones((2*n+1,1)))\n",
      "DenseConnection( STN_cog('U'),      GPi_cog('I'),       1.0*np.ones((2*n+1,1)) )\n",
      "DenseConnection( STN_mot('U'),      GPi_mot('I'),       1.0*np.ones((1,2*n+1)) )\n",
      "DenseConnection( GPi_cog('U'),      Thalamus_cog('I'), -0.5 )\n",
      "DenseConnection( GPi_mot('U'),      Thalamus_mot('I'), -0.5 )\n",
      "DenseConnection( Thalamus_cog('U'), Cortex_cog('I'),    1.0 )\n",
      "DenseConnection( Thalamus_mot('U'), Cortex_mot('I'),    1.0 )\n",
      "DenseConnection( Cortex_cog('U'),   Thalamus_cog('I'),  0.4 )\n",
      "DenseConnection( Cortex_mot('U'),   Thalamus_mot('I'),  0.4 )"
     ],
     "language": "python",
     "metadata": {},
     "outputs": [
      {
       "output_type": "pyout",
       "prompt_number": 5,
       "text": [
        "<dana.dense_connection.DenseConnection at 0x44f8550>"
       ]
      }
     ],
     "prompt_number": 5
    },
    {
     "cell_type": "heading",
     "level": 4,
     "metadata": {},
     "source": [
      "Creating trial setup and stabilizing at a level"
     ]
    },
    {
     "cell_type": "code",
     "collapsed": false,
     "input": [
      "@clock.at(500*millisecond)\n",
      "def set_trial(t):\n",
      "    m1,m2 = np.random.randint(0,4,2)\n",
      "    while m2 == m1:\n",
      "        m2 = np.random.randint(4)\n",
      "    c1,c2 = np.random.randint(0,4,2)\n",
      "    while c2 == c1:\n",
      "        c2 = np.random.randint(4)\n",
      "    Cortex_mot['Iext'] = 0\n",
      "    Cortex_cog['Iext'] = 0\n",
      "    Cortex_ass['Iext'] = 0\n",
      "    v = 7\n",
      "    Cortex_mot['Iext'][0,m1]  = v + np.random.normal(0,v*Cortex_N)\n",
      "    Cortex_mot['Iext'][0,m2]  = v + np.random.normal(0,v*Cortex_N)\n",
      "    Cortex_cog['Iext'][c1,0]  = v + np.random.normal(0,v*Cortex_N)\n",
      "    Cortex_cog['Iext'][c2,0]  = v + np.random.normal(0,v*Cortex_N)\n",
      "    Cortex_ass['Iext'][c1,m1] = v + np.random.normal(0,v*Cortex_N)\n",
      "    Cortex_ass['Iext'][c2,m2] = v + np.random.normal(0,v*Cortex_N)\n",
      "\n",
      "@clock.at(2500*millisecond)\n",
      "def set_trial(t):\n",
      "    Cortex_mot['Iext'] = 0\n",
      "    Cortex_cog['Iext'] = 0\n",
      "    Cortex_ass['Iext'] = 0"
     ],
     "language": "python",
     "metadata": {},
     "outputs": [],
     "prompt_number": 6
    },
    {
     "cell_type": "heading",
     "level": 4,
     "metadata": {},
     "source": [
      "Measurements"
     ]
    },
    {
     "cell_type": "code",
     "collapsed": false,
     "input": [
      "size = int(duration/dt)\n",
      "\n",
      "timesteps   = np.zeros(size)\n",
      "motor       = np.zeros((5, n, size))\n",
      "cognitive   = np.zeros((5, n, size))\n",
      "associative = np.zeros((2, n*n, size))\n",
      "\n",
      "@after(clock.tick)\n",
      "def register(t):\n",
      "    index = int(t*1000)\n",
      "\n",
      "    timesteps[index] = t\n",
      "\n",
      "    motor[0,:,index] = Cortex_mot['U'].ravel()\n",
      "    motor[1,:,index] = Striatum_mot['U'].ravel()\n",
      "    motor[2,:,index] = STN_mot['U'].ravel()\n",
      "    motor[3,:,index] = GPi_mot['U'].ravel()\n",
      "    motor[4,:,index] = Thalamus_mot['U'].ravel()\n",
      "\n",
      "    cognitive[0,:,index] = Cortex_cog['U'].ravel()\n",
      "    cognitive[1,:,index] = Striatum_cog['U'].ravel()\n",
      "    cognitive[2,:,index] = STN_cog['U'].ravel()\n",
      "    cognitive[3,:,index] = GPi_cog['U'].ravel()\n",
      "    cognitive[4,:,index] = Thalamus_cog['U'].ravel()\n",
      "\n",
      "    associative[0,:,index] = Cortex_ass['U'].ravel()\n",
      "    associative[1,:,index] = Striatum_ass['U'].ravel()"
     ],
     "language": "python",
     "metadata": {},
     "outputs": [],
     "prompt_number": 7
    },
    {
     "cell_type": "heading",
     "level": 4,
     "metadata": {},
     "source": [
      "Simulation"
     ]
    },
    {
     "cell_type": "code",
     "collapsed": false,
     "input": [
      "run(time=duration, dt=dt)"
     ],
     "language": "python",
     "metadata": {},
     "outputs": [],
     "prompt_number": "*"
    },
    {
     "cell_type": "heading",
     "level": 4,
     "metadata": {},
     "source": [
      "Plotting and Displays"
     ]
    },
    {
     "cell_type": "code",
     "collapsed": false,
     "input": [
      "#Display 1\n",
      "if 0:\n",
      "    fig = plt.figure(figsize=(12,5))\n",
      "    plt.subplots_adjust(bottom=0.15)\n",
      "\n",
      "    fig.patch.set_facecolor('.9')\n",
      "    ax = plt.subplot(1,1,1)\n",
      "\n",
      "    plt.plot(timesteps, cognitive[0,0],c='r', label=\"Cognitive Cortex\")\n",
      "    plt.plot(timesteps, cognitive[0,1],c='r')\n",
      "    plt.plot(timesteps, cognitive[0,2],c='r')\n",
      "    plt.plot(timesteps, cognitive[0,3],c='r')\n",
      "\n",
      "    plt.plot(timesteps, motor[0,0],c='b', label=\"Motor Cortex\")\n",
      "    plt.plot(timesteps, motor[0,1],c='b')\n",
      "    plt.plot(timesteps, motor[0,2],c='b')\n",
      "    plt.plot(timesteps, motor[0,3],c='b')\n",
      "\n",
      "    plt.xlabel(\"Time (seconds)\")\n",
      "    plt.ylabel(\"Activity (Hz)\")\n",
      "    plt.legend(frameon=False, loc='upper left')\n",
      "    plt.xlim(0.0,durtation)\n",
      "    plt.ylim(0.0,60.0)\n",
      "\n",
      "    plt.xticks([0.0, 0.5, 1.0, 1.5, 2.0, 2.5, 3.0],\n",
      "               ['0.0','0.5\\n(Trial start)','1.0','1.5', '2.0','2.5\\n(Trial stop)','3.0'])\n",
      "    # plt.savefig(\"model-results.pdf\")\n",
      "    plt.show()\n",
      "\n",
      "\n",
      "# Display 2\n",
      "# -----------------------------------------------------------------------------\n",
      "if 1:\n",
      "    fig = plt.figure(figsize=(18,12))\n",
      "    fig.patch.set_facecolor('1.0')\n",
      "\n",
      "    def subplot(rows,cols,n, alpha=0.0):\n",
      "        ax = plt.subplot(rows,cols,n)\n",
      "        ax.patch.set_facecolor(\"k\")\n",
      "        ax.patch.set_alpha(alpha)\n",
      "\n",
      "        ax.spines['right'].set_color('none')\n",
      "        ax.spines['top'].set_color('none')\n",
      "        ax.spines['bottom'].set_color('none')\n",
      "        ax.yaxis.set_ticks_position('left')\n",
      "        ax.yaxis.set_tick_params(direction=\"outward\")\n",
      "        return ax\n",
      "\n",
      "    ax = subplot(5,3,1)\n",
      "    ax.set_title(\"MOTOR\", fontsize=24)\n",
      "    ax.set_ylabel(\"STN\", fontsize=24)\n",
      "    for i in range(4):\n",
      "        plt.plot(timesteps, motor[2,i], c='k', lw=.5)\n",
      "    ax.set_xticks([])\n",
      "\n",
      "    ax = subplot(5,3,2)\n",
      "    ax.set_title(\"COGNITIVE\", fontsize=24)\n",
      "    for i in range(4):\n",
      "        plt.plot(timesteps, cognitive[2,i], c='k', lw=.5)\n",
      "    ax.set_xticks([])\n",
      "\n",
      "    ax = subplot(5,3,3,alpha=0)\n",
      "    ax.set_title(\"ASSOCIATIVE\", fontsize=24)\n",
      "    ax.set_xticks([])\n",
      "    ax.set_yticks([])\n",
      "    ax.spines['left'].set_color('none')\n",
      "\n",
      "\n",
      "    ax = subplot(5,3,4)\n",
      "    ax.set_ylabel(\"CORTEX\", fontsize=24)\n",
      "    for i in range(4):\n",
      "        ax.plot(timesteps, motor[0,i], c='k', lw=.5)\n",
      "    ax.set_xticks([])\n",
      "\n",
      "    ax = subplot(5,3,5)\n",
      "    for i in range(4):\n",
      "        plt.plot(timesteps, cognitive[0,i], c='k', lw=.5)\n",
      "    ax.set_xticks([])\n",
      "\n",
      "    ax = subplot(5,3,6)\n",
      "    for i in range(16):\n",
      "        plt.plot(timesteps, associative[0,i], c='k', lw=.5)\n",
      "    ax.set_xticks([])\n",
      "\n",
      "    ax = subplot(5,3,7)\n",
      "    ax.set_ylabel(\"STRIATUM\", fontsize=24)\n",
      "    for i in range(4):\n",
      "        plt.plot(timesteps, motor[1,i], c='k', lw=.5)\n",
      "    ax.set_xticks([])\n",
      "\n",
      "    ax = subplot(5,3,8)\n",
      "    for i in range(4):\n",
      "        plt.plot(timesteps, cognitive[1,i], c='k', lw=.5)\n",
      "    ax.set_xticks([])\n",
      "\n",
      "    ax = subplot(5,3,9)\n",
      "    for i in range(16):\n",
      "        plt.plot(timesteps, associative[1,i], c='k', lw=.5)\n",
      "    ax.set_xticks([])\n",
      "\n",
      "    ax = subplot(5,3,10)\n",
      "    ax.set_ylabel(\"GPi\", fontsize=24)\n",
      "    for i in range(4):\n",
      "        plt.plot(timesteps, motor[3,i], c='k', lw=.5)\n",
      "    ax.set_xticks([])\n",
      "\n",
      "    ax = subplot(5,3,11)\n",
      "    for i in range(4):\n",
      "        plt.plot(timesteps, cognitive[3,i], c='k', lw=.5)\n",
      "    ax.set_xticks([])\n",
      "\n",
      "    ax = subplot(5,3,13)\n",
      "    ax.set_ylabel(\"THALAMUS\", fontsize=24)\n",
      "    for i in range(4):\n",
      "        plt.plot(timesteps, motor[4,i], c='k', lw=.5)\n",
      "    ax.set_xticks([])\n",
      "\n",
      "    ax = subplot(5,3,14)\n",
      "    for i in range(4):\n",
      "        plt.plot(timesteps, cognitive[4,i], c='k', lw=.5)\n",
      "    ax.set_xticks([])\n",
      "\n",
      "    plt.savefig(\"model-results-all.pdf\")\n",
      "    plt.show()"
     ],
     "language": "python",
     "metadata": {},
     "outputs": [],
     "prompt_number": "*"
    }
   ],
   "metadata": {}
  }
 ]
}
