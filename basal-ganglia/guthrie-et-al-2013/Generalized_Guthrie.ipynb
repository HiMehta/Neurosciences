{
 "metadata": {
  "name": "Generalized_Guthrie"
 },
 "nbformat": 3,
 "nbformat_minor": 0,
 "worksheets": [
  {
   "cells": [
    {
     "cell_type": "heading",
     "level": 3,
     "metadata": {},
     "source": [
      "Generalized Basal ganglia model for guthrie-et-al-2013 "
     ]
    },
    {
     "cell_type": "markdown",
     "metadata": {},
     "source": [
      "!/usr/bin/env python <br>\n",
      "Copyright (c) 2014, Nicolas P. Rougier\n",
      "Distributed under the (new) BSD License.\n",
      "<br>\n",
      " Contributors: Nicolas P. Rougier (Nicolas.Rougier@inria.fr)<br>\n",
      "               Meropi Topalidou (Meropi.Topalidou@inria.fr)<br>\n",
      "               Hima Mehta(hima.mehta@inria.fr)"
     ]
    },
    {
     "cell_type": "markdown",
     "metadata": {},
     "source": [
      "**Introduction** :-\n",
      "\n",
      "Ipython notebook for The Basal Ganglia Model by guthrie-et-al-2013 in which action selection Decision is divided into two levels called Cognitive and Motor which associates at striatal projections , more precisely these two levels considered as two parallel modules in BG which is part of CBG closed feedback loop .The model is tested on 4 cues (one nuclei for each cue) , While cue shapes are cognitive level decision and the direction in which cues are moved is Motor level decision ..out of 4 cues 2 are presented competing to be selected in each trial with experiment on total of 120 trials presenting each of 6 choices 20 times pseudorandomly .\n",
      "\n",
      "**The generalized version of model**\n",
      "\n",
      "Here is Ipython notebook for the same model with T number of trials , N number of cues for Cognitive and Motor modules , Among them K can be in competition at a time .."
     ]
    },
    {
     "cell_type": "markdown",
     "metadata": {},
     "source": [
      "### Packages import"
     ]
    },
    {
     "cell_type": "code",
     "collapsed": false,
     "input": [
      "from dana import *\n",
      "import matplotlib.pyplot as plt\n",
      "#%pylab inline\n",
      "import os\n",
      "import time\n",
      "import math\n",
      "import itertools"
     ],
     "language": "python",
     "metadata": {},
     "outputs": [],
     "prompt_number": 1
    },
    {
     "cell_type": "markdown",
     "metadata": {},
     "source": [
      "### Simulation parameters"
     ]
    },
    {
     "cell_type": "code",
     "collapsed": false,
     "input": [
      "figs = {}\n",
      "# Population size\n",
      "n = 4\n",
      "\n",
      "#trials\n",
      "total_trial = 120\n",
      "\n",
      "#cue presented\n",
      "cue_choice = 2\n",
      "\n",
      "# Default trial duration\n",
      "duration = 3.0*second\n",
      "\n",
      "# Default Time resolution\n",
      "dt = 1.0*millisecond\n",
      "\n",
      "# Initialization of the random generator (reproductibility !)\n",
      "np.random.seed(1)\n",
      "runningtime = total_trial*3"
     ],
     "language": "python",
     "metadata": {},
     "outputs": [],
     "prompt_number": 2
    },
    {
     "cell_type": "code",
     "collapsed": false,
     "input": [
      "# Threshold\n",
      "Cortex_h   =  -3.0\n",
      "Striatum_h =   0.0\n",
      "STN_h      = -10.0\n",
      "GPi_h      =  10.0\n",
      "Thalamus_h = -40.0"
     ],
     "language": "python",
     "metadata": {},
     "outputs": [],
     "prompt_number": 3
    },
    {
     "cell_type": "code",
     "collapsed": false,
     "input": [
      "# Time constants\n",
      "Cortex_tau   = 0.01\n",
      "Striatum_tau = 0.01\n",
      "STN_tau      = 0.01\n",
      "GPi_tau      = 0.01\n",
      "Thalamus_tau = 0.01"
     ],
     "language": "python",
     "metadata": {},
     "outputs": [],
     "prompt_number": 4
    },
    {
     "cell_type": "code",
     "collapsed": false,
     "input": [
      "# Noise leve (%)\n",
      "Cortex_N   =   0.01\n",
      "Striatum_N =   0.001\n",
      "STN_N      =   0.001\n",
      "GPi_N      =   0.03\n",
      "Thalamus_N =   0.001"
     ],
     "language": "python",
     "metadata": {},
     "outputs": [],
     "prompt_number": 5
    },
    {
     "cell_type": "code",
     "collapsed": false,
     "input": [
      "# Sigmoid parameters\n",
      "Vmin       =   0.0\n",
      "Vmax       =  20.0\n",
      "Vh         =  16.0\n",
      "Vc         =   3.0"
     ],
     "language": "python",
     "metadata": {},
     "outputs": [],
     "prompt_number": 6
    },
    {
     "cell_type": "code",
     "collapsed": false,
     "input": [
      "# Learning parameters\n",
      "a_c = 0.05\n",
      "a_aLTP = 0.002\n",
      "a_aLTD= 0.001\n",
      "Wmin = 0.25 \n",
      "Wmax = 0.75"
     ],
     "language": "python",
     "metadata": {},
     "outputs": [],
     "prompt_number": 7
    },
    {
     "cell_type": "markdown",
     "metadata": {},
     "source": [
      "### Initialization of Values"
     ]
    },
    {
     "cell_type": "code",
     "collapsed": false,
     "input": [
      "simulation = 0\n",
      "trial = 0\n",
      "\n",
      "T = []\n",
      "C_Cx, M_Cx, A_Cx = [], [], []\n",
      "C_Str, M_Str, A_Str = [], [], []\n",
      "C_STN, M_STN = [], []\n",
      "C_GPi, M_GPi = [], []\n",
      "C_Th, M_Th = [], []\n",
      "\n",
      "Cue_Rw_Choice = np.zeros((total_trial,n+3))\n",
      "equal_m_c = np.zeros(total_trial)"
     ],
     "language": "python",
     "metadata": {},
     "outputs": [],
     "prompt_number": 8
    },
    {
     "cell_type": "code",
     "collapsed": false,
     "input": [
      "# Learning weights\n",
      "Weights = np.zeros(((total_trial+1),n))\n",
      "V_value = np.zeros((total_trial,n))\n",
      "\n",
      "Cue_Values = np.ones((n,cue_choice))*7.0\n",
      "PR = np.linspace(0.,1.,n)\n",
      "R = np.zeros(total_trial)\n",
      "Right_Choice = np.zeros(total_trial)\n",
      "V = 0.5 * np.ones((n,1))"
     ],
     "language": "python",
     "metadata": {},
     "outputs": [],
     "prompt_number": 9
    },
    {
     "cell_type": "markdown",
     "metadata": {},
     "source": [
      "### Helper functions"
     ]
    },
    {
     "cell_type": "code",
     "collapsed": false,
     "input": [
      "def Boltzmann(V,Vmin=Vmin,Vmax=Vmax,Vh=Vh,Vc=Vc):\n",
      "    return  Vmin + (Vmax-Vmin)/(1.0+np.exp((Vh-V)/Vc))"
     ],
     "language": "python",
     "metadata": {},
     "outputs": [],
     "prompt_number": 10
    },
    {
     "cell_type": "code",
     "collapsed": false,
     "input": [
      "def noise(V, level):\n",
      "    return  V + np.random.normal(0,(abs(V)+0.0001)*level,V.shape)"
     ],
     "language": "python",
     "metadata": {},
     "outputs": [],
     "prompt_number": 11
    },
    {
     "cell_type": "code",
     "collapsed": false,
     "input": [
      "def init_weights(Initial_Weights, gain=1):\n",
      "    global Wmin, Wmax \n",
      "    N = np.random.normal(0.5, 0.005, Initial_Weights.shape)\n",
      "    N = np.minimum(np.maximum(N, 0.0),1.0)\n",
      "    return gain*Initial_Weights*(Wmin+(Wmax-Wmin)*N)"
     ],
     "language": "python",
     "metadata": {},
     "outputs": [],
     "prompt_number": 12
    },
    {
     "cell_type": "code",
     "collapsed": false,
     "input": [
      "def min_max(w, Wmin = Wmin, Wmax = Wmax):\n",
      "    return np.minimum(Wmax,np.maximum(w[w!=0],Wmin))"
     ],
     "language": "python",
     "metadata": {},
     "outputs": [],
     "prompt_number": 13
    },
    {
     "cell_type": "code",
     "collapsed": false,
     "input": [
      "def nCr(n,r):\n",
      "    f = math.factorial\n",
      "    return f(n) / f(r) / f(n-r)"
     ],
     "language": "python",
     "metadata": {},
     "outputs": [],
     "prompt_number": 14
    },
    {
     "cell_type": "code",
     "collapsed": false,
     "input": [
      "def decide_move(cortex,num):\n",
      "    #print cortex\n",
      "    move = [False]\n",
      "    for i in range(num-1):\n",
      "        move = (-np.sort(-cortex)[:,i] - 40 > -np.sort(-cortex)[:,i+1])\n",
      "        if move:\n",
      "            break\n",
      "    return move"
     ],
     "language": "python",
     "metadata": {},
     "outputs": [],
     "prompt_number": 15
    },
    {
     "cell_type": "code",
     "collapsed": false,
     "input": [
      "#Setting up plots And plotting Data\n",
      "def draw_result(name, title,xname,yname):\n",
      "    ''' '''\n",
      "    axes = plt.gca()\n",
      "    axes.grid()\n",
      "    axes.set_title(title, fontsize=12)\n",
      "    #axes.set_xlim([0,3000])\n",
      "    #axes.set_ylim([-10,120]\n",
      "    plt.xlabel(xname, fontsize=10)\n",
      "    plt.ylabel(yname, fontsize=10)\n",
      "    figs[name] = axes\n",
      "\n",
      "#Plotting Data\n",
      "def plot_data_co_mo(x,y,name):\n",
      "    trial_time = 3 * 1000 \n",
      "    duration = np.linspace(trial_time*0,trial_time*1-1,3000).astype(int)\n",
      "    axes = figs[name]\n",
      "    C = np.array(x)\n",
      "    M = np.array(y)\n",
      "    axes.set_xlim([0,3000])\n",
      "    axes.set_ylim([-10,100])\n",
      "    axes.plot(C[duration],'b')\n",
      "    axes.plot(C[duration],'b')\n",
      "    axes.plot(C[duration],'b')\n",
      "    axes.plot(C[duration],'b')\n",
      "    axes.plot(M[duration],'r')\n",
      "    axes.plot(M[duration],'r')\n",
      "    axes.plot(M[duration],'r')\n",
      "    axes.plot(M[duration],'r')\n",
      "    plt.draw()\n",
      "\n",
      "def plot_data(data,name):\n",
      "    axes = figs[name]\n",
      "    axes.set_xlim([0,total_trial])\n",
      "    axes.set_ylim([0,1])\n",
      "    axes.plot(data[:,0], 'y')\n",
      "    axes.plot(data[:,1], 'b')\n",
      "    axes.plot(data[:,2], 'r')\n",
      "    axes.plot(data[:,3], 'm')\n",
      "    plt.draw()\n",
      "\n",
      "def plot_data_hist(data,name):\n",
      "    axes = figs[name]\n",
      "    axes.set_xlim([0,1])\n",
      "    axes.set_ylim([0,total_trial])\n",
      "    axes.hist(equal_m_c, bins = 3)\n",
      "    plt.draw()\n",
      "\n",
      "def plot_data_ne(data,name):\n",
      "    axes = figs[name]\n",
      "    axes.set_xlim([-1,1])\n",
      "    axes.set_ylim([0,total_trial])\n",
      "    axes.plot(data,'*')\n",
      "    plt.draw()"
     ],
     "language": "python",
     "metadata": {},
     "outputs": [],
     "prompt_number": 16
    },
    {
     "cell_type": "markdown",
     "metadata": {},
     "source": [
      "### Populations"
     ]
    },
    {
     "cell_type": "code",
     "collapsed": false,
     "input": [
      "Cortex_cog   = zeros((n,1), \"\"\"dV/dt = -V +U + (-V + noise(I+Iext,Cortex_N) - Cortex_h)/Cortex_tau;\n",
      "                               U = np.maximum(V,0); I; Iext\"\"\")\n",
      "Cortex_mot   = zeros((1,n), \"\"\"dV/dt = -V +U + (-V +noise(I+Iext,Cortex_N) - Cortex_h)/Cortex_tau;\n",
      "                               U = np.maximum(V,0); I; Iext\"\"\")\n",
      "Cortex_ass   = zeros((n,n), \"\"\"dV/dt = -V +U + (-V + Iext - Cortex_h)/Cortex_tau;\n",
      "                               U = np.maximum(noise(V,Cortex_N),0); Iext\"\"\")\n",
      "Striatum_cog = zeros((n,1), \"\"\"dV/dt = -V +U + (-V + noise(Boltzmann(I), Striatum_N) - Striatum_h)/Striatum_tau;\n",
      "                               U = np.maximum(V,0); I\"\"\")\n",
      "Striatum_mot = zeros((1,n), \"\"\"dV/dt = -V +U + (-V + noise(Boltzmann(I), Striatum_N) - Striatum_h)/Striatum_tau;\n",
      "                               U = np.maximum(V,0); I\"\"\")\n",
      "Striatum_ass = zeros((n,n), \"\"\"dV/dt = -V +U + (-V + noise(Boltzmann(0.2*I + I_Ass), Striatum_N) - Striatum_h)/Striatum_tau;\n",
      "                               U = np.maximum(V,0); I; I_Ass\"\"\")\n",
      "STN_cog      = zeros((n,1), \"\"\"dV/dt = -V +U + (-V + noise(I, STN_N) - STN_h)/STN_tau;\n",
      "                               U = np.maximum(V,0); I\"\"\")\n",
      "STN_mot      = zeros((1,n), \"\"\"dV/dt = -V +U + (-V +  noise(I, STN_N) - STN_h)/STN_tau;\n",
      "                               U = np.maximum(V,0); I\"\"\")\n",
      "GPi_cog      = zeros((n,1), \"\"\"dV/dt = -V +U + (-V + noise(-2.0*I_Str + I , GPi_N) - GPi_h)/GPi_tau;\n",
      "                               U = np.maximum(V,0); I_Str; I\"\"\")\n",
      "GPi_mot      = zeros((1,n), \"\"\"dV/dt = -V +U + (-V + noise(-2.0*I_Str + I , GPi_N) - GPi_h)/GPi_tau;\n",
      "                               U = np.maximum(V,0); I_Str; I\"\"\")\n",
      "Thalamus_cog = zeros((n,1), \"\"\"dV/dt = -V +U + (-V -0.5*I + 0.4*I_Cx - Thalamus_h)/Thalamus_tau;\n",
      "                               U = np.maximum(noise(V, Thalamus_N),0); I; I_Cx\"\"\")\n",
      "Thalamus_mot = zeros((1,n), \"\"\"dV/dt = -V +U + (-V -0.5*I + 0.4*I_Cx - Thalamus_h)/Thalamus_tau;\n",
      "                               U = np.maximum(noise(V,Thalamus_N),0); I; I_Cx\"\"\")"
     ],
     "language": "python",
     "metadata": {},
     "outputs": [],
     "prompt_number": 17
    },
    {
     "cell_type": "markdown",
     "metadata": {},
     "source": [
      "### Connectivity"
     ]
    },
    {
     "cell_type": "code",
     "collapsed": false,
     "input": [
      "Cog_Con = DenseConnection( Cortex_cog('V'),   Striatum_cog('I'), 1.0)\n",
      "Initial_Cog_Con = Cog_Con._weights\n",
      "Cog_Con._weights = init_weights(Initial_Cog_Con) \n",
      "\n",
      "Mot_Con = DenseConnection( Cortex_mot('V'),   Striatum_mot('I'), 1.0)\n",
      "Initial_Mot_Con = Mot_Con._weights\n",
      "Mot_Con._weights = init_weights(Mot_Con._weights)\n",
      "\n",
      "Ass_Con = DenseConnection( Cortex_ass('V'),   Striatum_ass('I_Ass'), 1.0)\n",
      "Initial_Ass_Con = Ass_Con._weights\n",
      "Ass_Con._weights = init_weights(Ass_Con._weights)\n",
      "\n",
      "Cog_Ass_Con = DenseConnection( Cortex_cog('V'),   Striatum_ass('I'), np.ones((1,2*n+1)))\n",
      "Initial_Cog_Ass_Con = Cog_Ass_Con._weights\n",
      "Cog_Ass_Con._weights = init_weights(Cog_Ass_Con._weights)\n",
      "\n",
      "Mot_Ass_Con = DenseConnection( Cortex_mot('V'),   Striatum_ass('I'), np.ones((2*n+1,1)))\n",
      "Initial_Mot_Ass_Con = Mot_Ass_Con._weights\n",
      "Mot_Ass_Con._weights = init_weights(Mot_Ass_Con._weights)\n",
      "\n",
      "DenseConnection( Cortex_cog('V'),   STN_cog('I'),       1.0 )\n",
      "DenseConnection( Cortex_mot('V'),   STN_mot('I'),       1.0 )\n",
      "DenseConnection( Striatum_cog('V'), GPi_cog('I_Str'),      1.0 )\n",
      "DenseConnection( Striatum_mot('V'), GPi_mot('I_Str'),      1.0 )\n",
      "DenseConnection( Striatum_ass('V'), GPi_cog('I_Str'),      np.ones((1,2*n+1)))\n",
      "DenseConnection( Striatum_ass('V'), GPi_mot('I_Str'),      np.ones((2*n+1,1)))\n",
      "DenseConnection( STN_cog('V'),      GPi_cog('I'),       1.0*np.ones((2*n+1,1)) )\n",
      "DenseConnection( STN_mot('V'),      GPi_mot('I'),       1.0*np.ones((1,2*n+1)) )\n",
      "DenseConnection( GPi_cog('V'),      Thalamus_cog('I'), 1.0 )\n",
      "DenseConnection( GPi_mot('V'),      Thalamus_mot('I'), 1.0 )\n",
      "DenseConnection( Thalamus_cog('V'), Cortex_cog('I'),    1.0 )\n",
      "DenseConnection( Thalamus_mot('V'), Cortex_mot('I'),    1.0 )\n",
      "DenseConnection( Cortex_cog('V'),   Thalamus_cog('I_Cx'),  1.0 )\n",
      "DenseConnection( Cortex_mot('V'),   Thalamus_mot('I_Cx'),  1.0 )"
     ],
     "language": "python",
     "metadata": {},
     "outputs": [
      {
       "output_type": "pyout",
       "prompt_number": 18,
       "text": [
        "<dana.dense_connection.DenseConnection at 0x49b7b50>"
       ]
      }
     ],
     "prompt_number": 18
    },
    {
     "cell_type": "markdown",
     "metadata": {},
     "source": [
      "### Cues Randomization for the Simulation"
     ]
    },
    {
     "cell_type": "code",
     "collapsed": false,
     "input": [
      "comb = nCr(n,cue_choice)\n",
      "choices_cog  = np.asarray(list(itertools.combinations(range(n),cue_choice)))\n",
      "choices_mot  = np.asarray(list(itertools.combinations(range(n),cue_choice)))\n",
      "#print choices_cog\n",
      "cues_cog = choices_cog.copy()\n",
      "cues_mot = choices_mot.copy()\n",
      "end = math.ceil(total_trial/float(comb))\n",
      "for i in range(1,int(end)):\n",
      "    cues_cog = np.vstack((cues_cog,choices_cog))\n",
      "    cues_mot = np.vstack((cues_mot,choices_mot))"
     ],
     "language": "python",
     "metadata": {},
     "outputs": [],
     "prompt_number": 19
    },
    {
     "cell_type": "markdown",
     "metadata": {},
     "source": [
      "### Record Ensembles' Activity"
     ]
    },
    {
     "cell_type": "code",
     "collapsed": false,
     "input": [
      "@after(clock.tick)\n",
      "def register(t):\n",
      "    T.append(t)\n",
      "    C_Cx.append(Cortex_cog['V'].copy().ravel())\n",
      "    M_Cx.append(Cortex_mot['V'].copy().ravel())\n",
      "    A_Cx.append(Cortex_cog['V'].copy().ravel())\n",
      "    C_Str.append(Cortex_cog['V'].copy().ravel())\n",
      "    M_Str.append(Cortex_mot['V'].copy().ravel())\n",
      "    A_Str.append(Cortex_mot['V'].copy().ravel())\n",
      "    C_STN.append(Cortex_cog['V'].copy().ravel())\n",
      "    M_STN.append(Cortex_mot['V'].copy().ravel())\n",
      "    C_GPi.append(Cortex_cog['V'].copy().ravel())\n",
      "    M_GPi.append(Cortex_mot['V'].copy().ravel())\n",
      "    C_Th.append(Cortex_cog['V'].copy().ravel())\n",
      "    M_Th.append(Cortex_mot['V'].copy().ravel())"
     ],
     "language": "python",
     "metadata": {},
     "outputs": [],
     "prompt_number": 20
    },
    {
     "cell_type": "markdown",
     "metadata": {},
     "source": [
      "### Trial setup"
     ]
    },
    {
     "cell_type": "code",
     "collapsed": false,
     "input": [
      "@clock.every(3.0*second,500*millisecond)\n",
      "def set_trial(t):\n",
      "    global cues_cog, cues_mot, trial, Cue_Values\n",
      "    #print 'trial = ', trial+1\n",
      "    #c1, c2 = cues_cog[trial,0], cues_cog[trial,1]\n",
      "    #m1, m2 = cues_mot[trial,0], cues_mot[trial,1]\n",
      "    #print 'cues_cog = ',cues_cog[trial] \n",
      "    #print 'cues_mot = ',cues_mot[trial]\n",
      "    for i in cues_cog[trial]: \n",
      "        Cortex_cog['Iext'][i,0]  = Cue_Values[i,0]\n",
      "        Cortex_mot['Iext'][0,i]  = Cue_Values[i,0]\n",
      "        Cortex_ass['Iext'][i,i]  = Cue_Values[i,0]"
     ],
     "language": "python",
     "metadata": {},
     "outputs": [],
     "prompt_number": 21
    },
    {
     "cell_type": "markdown",
     "metadata": {},
     "source": [
      "### Selection"
     ]
    },
    {
     "cell_type": "code",
     "collapsed": false,
     "input": [
      "no_move = []\n",
      "@clock.every(3.0*second, 2.999*second)\n",
      "def selection(t):\n",
      "    global trial, R, V\n",
      "    if trial == 0:\n",
      "        for i in range(n):\n",
      "            Weights[trial,i] = Cog_Con.weights[i,i]\n",
      "    #print Weights[trial]\n",
      "    move = decide_move(Cortex_mot['V'],cue_choice)\n",
      "    #print 'move = ', move\n",
      "    if move:\n",
      "        #print Cortex_mot['V']\n",
      "        choice = np.argmax(Cortex_mot['V'])\n",
      "        #print 'choice = ', choice\n",
      "        cognitive = np.argmax(Cortex_cog['V'])\n",
      "        cog_right_ch = np.argmax(cues_cog[trial,:])\n",
      "        mot_right_ch = cues_mot[trial,cog_right_ch]\n",
      "        ch = np.where(choice == cues_mot[trial])\n",
      "        #print 'moto choice place = ', ch\n",
      "        #print 'cognitive = ', cognitive\n",
      "        #print 'cues_cog[trial,ch] = ', cues_cog[trial,ch]\n",
      "        equal_m_c[trial] = (1 if cognitive == cues_cog[trial,ch] else 0)\n",
      "        #print 'equal_m_c = ', equal_m_c[trial]\n",
      "        Right_Choice[trial] = (1 if mot_right_ch == choice else 0)\n",
      "        #print 'Right_Choice = ', Right_Choice[trial]\n",
      "        if np.any(cues_mot[trial] == choice):\n",
      "            R[trial] = (1 if np.random.random() < PR[choice] else 0)\n",
      "        else:\n",
      "            R[trial] = 0\n",
      "        #print 'Reward = ', R[trial], '\\n\\n'\n",
      "        PE = R[trial] - V[choice]\n",
      "        V[choice] = V[choice] + (PE * a_c)\n",
      "        V_value[trial] = V.T\n",
      "\n",
      "        dw = PE  * Striatum_cog['V'][choice][0]\n",
      "        a = (a_aLTP if dw>0 else a_aLTD)  \n",
      "        Cog_Con.weights[choice, choice] = min_max(Cog_Con.weights[choice, choice] + (dw* a))\n",
      "        for i in range(n):\n",
      "            Weights[(trial+1),i] = Cog_Con.weights[i,i]\n",
      "    else:\n",
      "        no_move.append([trial])\n",
      "        Cue_Rw_Choice[trial, n] =  1\n",
      "        Cue_Rw_Choice[trial, (n+1):] =  R[trial], Right_Choice[trial]\n",
      "    if (trial<total_trial):\n",
      "        trial += 1"
     ],
     "language": "python",
     "metadata": {},
     "outputs": [],
     "prompt_number": 22
    },
    {
     "cell_type": "markdown",
     "metadata": {},
     "source": [
      "### Reset Of Activity Ensembles After Every Trial"
     ]
    },
    {
     "cell_type": "code",
     "collapsed": false,
     "input": [
      "@clock.every(3.0*second,3.0*second)\n",
      "def reset(time):\n",
      "    Cortex_mot['Iext'] = 0\n",
      "    Cortex_cog['Iext'] = 0\n",
      "    Cortex_ass['Iext'] = 0\n",
      "    \n",
      "    Cortex_cog['V'] = 0\n",
      "    Cortex_mot['V'] = 0\n",
      "    Cortex_ass['V'] = 0\n",
      "\n",
      "    Striatum_cog['V'] = 0\n",
      "    Striatum_mot['V'] = 0\n",
      "    Striatum_ass['V'] = 0\n",
      "\n",
      "    STN_cog['V'] = 0\n",
      "    STN_mot['V'] = 0\n",
      "\n",
      "    GPi_cog['V'] = 0\n",
      "    GPi_mot['V'] = 0\n",
      "\n",
      "    Thalamus_cog['V'] = 0\n",
      "    Thalamus_mot['V'] = 0"
     ],
     "language": "python",
     "metadata": {},
     "outputs": [],
     "prompt_number": 23
    },
    {
     "cell_type": "code",
     "collapsed": false,
     "input": [
      "@clock.at((runningtime-1)*second)\n",
      "def plots(t):\n",
      "    plt.ion()\n",
      "    fig = plt.figure(figsize=(15,12))\n",
      "    #fig.patch.set_alpha(0.0)\n",
      "    #fig.suptitle('Parameters', fontsize=12)\n",
      "    plt.subplot(2,3,1)\n",
      "    draw_result('Cortex','cortex Activity','Time(ms)','Firing Rate(sp/s)')\n",
      "    plt.subplot(2,3,2)\n",
      "    draw_result('Weights','Weights learning','Trial','Weights')\n",
      "    plt.subplot(2,3,3)\n",
      "    draw_result('values','Changing cue Values','Trial','Vi')\n",
      "    plt.subplot(2,3,4)\n",
      "    draw_result('cog_mot','Equality of Cognitive and Motor Decision','Equal or not','No of Trials')\n",
      "    plt.subplot(2,3,5)\n",
      "    draw_result('cog_mot_ne','No Equality of Cognitive and Motor Decision','','Trial Number')\n",
      "    #x,y = create_Range(start_x,stop_x,Update_x_y,start_y,stop_y,Update_x_y)\n",
      "    plot_data_co_mo(C_Cx,M_Cx,'Cortex')\n",
      "    plot_data(Weights,'Weights')\n",
      "    plot_data(V_value,'values')\n",
      "    plot_data_hist(equal_m_c,'cog_mot')\n",
      "    zeros = np.array(np.where(equal_m_c == 0.0))\n",
      "    ones = np.array(np.where(equal_m_c == 1.0))\n",
      "    plot_data_ne(zeros,'cog_mot_ne')\n",
      "    plt.ioff()"
     ],
     "language": "python",
     "metadata": {},
     "outputs": [],
     "prompt_number": 24
    },
    {
     "cell_type": "markdown",
     "metadata": {},
     "source": [
      "### Run simulation"
     ]
    },
    {
     "cell_type": "code",
     "collapsed": false,
     "input": [
      "#start = time.clock()\n",
      "#new_trial = time.clock()\n",
      "dt = 1*millisecond\n",
      "run(time=runningtime*second, dt=dt)"
     ],
     "language": "python",
     "metadata": {},
     "outputs": [],
     "prompt_number": 25
    }
   ],
   "metadata": {}
  }
 ]
}
